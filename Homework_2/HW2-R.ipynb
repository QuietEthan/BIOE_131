{
 "cells": [
  {
   "cell_type": "code",
   "execution_count": 4,
   "metadata": {},
   "outputs": [
    {
     "name": "stdout",
     "output_type": "stream",
     "text": [
      "Reading codon usage table..\n",
      "Reading protein sequence(s)..\n"
     ]
    }
   ],
   "source": [
    "#! /usr/bin/python \n",
    "#####python 3\n",
    "##################\n",
    "#####Inverse Translation for the protein FASTA files\n",
    "#####Yifan Ethan Chen\n",
    "#####BioE 131 HW2\n",
    "#####10/06/17 Cal\n",
    "\n",
    "import sys, math, copy, re, subprocess\n",
    "from sys import exit\n",
    "from sys import argv\n",
    "\n",
    "#####for codon sorting\n",
    "def frequence(s): \n",
    "    return s[2]\n",
    "\n",
    "def get_mfe(sequence):\n",
    "    rnafold = subprocess.Popen(['rnafold', '-T', '23'],\n",
    "                                stdin=subprocess.PIPE,\n",
    "                                stdout=subprocess.PIPE)\n",
    "    rnafold.stdin.write(bytes(sequence, 'ascii'))\n",
    "    output = rnafold.communicate()[0]\n",
    "    mfe = re.findall('\\d+\\.?\\d*',str(output))[0]\n",
    "    return float(mfe)\n",
    "\n",
    "#####chosing the best codon by frequency, repeat penalty and secondary structure\n",
    "def chooseaa_non1st_1(aa):\n",
    "    score_list_aa = []\n",
    "    for info in codondict[aa]:\n",
    "        mfe = get_mfe(RNAseq+info[0])\n",
    "        score_codon = info[1] - 1/(aan - seqcodondict[info[0]][-1]) - mfe\n",
    "        score_list_aa.append(score_codon)\n",
    "    codon = codondict[aa][score_list_aa.index(max(score_list_aa))][0]\n",
    "    return codon\n",
    "def chooseaa_non1st_2(aa):\n",
    "    score_list_aa = []\n",
    "    for info in codondict[aa]:\n",
    "        score_codon = info[1] - 1/(aan - seqcodondict[info[0]][-1])\n",
    "        score_list_aa.append(score_codon)\n",
    "    codon = codondict[aa][score_list_aa.index(max(score_list_aa))][0]\n",
    "    return codon\n",
    "\n",
    "'''#####Error Handle\n",
    "try: \n",
    "    proteinfile_name = sys.argv[1]\n",
    "except IndexError:\n",
    "    print ('The user did not specify a FASTA file argument on the command line.')\n",
    "    sys.exit()\n",
    "try: \n",
    "    codontablefile_name = sys.argv[2]\n",
    "except IndexError:\n",
    "    print ('The user did not specify a codon usage table file argument on the command line.')\n",
    "    sys.exit()\n",
    "try:\n",
    "    fin = open(proteinfile_name)\n",
    "    fin = open(codontablefile_name)\n",
    "except IOError:\n",
    "    print ('The file named by the user does not exist, or is not readable.')\n",
    "    sys.exit()'''\n",
    "\n",
    "    \n",
    "proteinfile = open('protein_input.fa') \n",
    "proteincontents = proteinfile.readlines()\n",
    "codontablefile = open('EcoliCodonUsage.txt')\n",
    "codontablecontents = codontablefile.readlines()\n",
    "\n",
    "#####build codon dict\n",
    "print ('Reading codon usage table..')\n",
    "codondict = {}\n",
    "codonforseq = {}   #the first element is math.log10(freq)\n",
    "for line in codontablecontents:\n",
    "    line = line.rstrip()\n",
    "    line = re.split('[()]',line)\n",
    "    if line[-1] =='':\n",
    "        line.pop()\n",
    "    if line:\n",
    "        codonlist = [line[i] for i in range(0,len(line),2)]\n",
    "        for i in codonlist:\n",
    "            i = i.split()\n",
    "            if i[1] in codondict.keys():\n",
    "                if float(i[2]) != 0:\n",
    "                    codondict[i[1]].append((i[0], math.log10(float(i[2])), float(i[3])))   #codon, probability, frequence\n",
    "                    codonforseq.setdefault(i[0], [math.log10(float(i[2]))])\n",
    "            else:\n",
    "                if float(i[2]) != 0:\n",
    "                    codondict.setdefault(i[1], [(i[0], math.log10(float(i[2])), float(i[3]))])\n",
    "                    codonforseq.setdefault(i[0], [math.log10(float(i[2]))])\n",
    "for i in codondict.keys():\n",
    "    k = sorted(codondict[i], key = frequence, reverse = True)\n",
    "    codondict[i] = k\n",
    "\n",
    "\n",
    "#####protein sequence read\n",
    "print ('Reading protein sequence(s)..')\n",
    "proteinlist = []\n",
    "n = 0\n",
    "while n < len(proteincontents):\n",
    "    if proteincontents[n] == '\\n':\n",
    "        n += 1\n",
    "    elif proteincontents[n][0] == '>':\n",
    "        proteinname = proteincontents[n].split()[0]\n",
    "        sequence = ''\n",
    "        n += 1\n",
    "        while n < len(proteincontents) and proteincontents[n][0] !='>':\n",
    "            sequence += proteincontents[n].rstrip()\n",
    "            n += 1\n",
    "        if n < len(proteincontents) and proteincontents[n][0] == '>' and sequence == '':\n",
    "            print ('No sequence for ' + proteinname[1:] + '.')\n",
    "        else:\n",
    "            for aa in sequence:\n",
    "                if aa.upper() in ['A', 'R', 'N', 'D', 'C', 'Q', 'E', 'G', 'H', 'I', 'L', 'K', 'M', 'F', 'P', 'S', 'T', 'W', 'Y', 'V']:\n",
    "                    pass\n",
    "                else:\n",
    "                    print ('The file named by the user contains sequence ' + proteinname[1:] + ' that is not protein.')\n",
    "                    sys.exit()\n",
    "            proteinlist.append((proteinname,sequence.upper()))\n",
    "    elif contents[n][0] != '>':\n",
    "        print ('The file named by the user is not in FASTA format.')\n",
    "        sys.exit()\n"
   ]
  },
  {
   "cell_type": "code",
   "execution_count": 5,
   "metadata": {
    "scrolled": false
   },
   "outputs": [
    {
     "name": "stdout",
     "output_type": "stream",
     "text": [
      "Doing inverse translation for input sequence(s)...\n"
     ]
    },
    {
     "ename": "NameError",
     "evalue": "name 'proteinfile_name' is not defined",
     "output_type": "error",
     "traceback": [
      "\u001b[0;31m---------------------------------------------------------------------------\u001b[0m",
      "\u001b[0;31mNameError\u001b[0m                                 Traceback (most recent call last)",
      "\u001b[0;32m<ipython-input-5-2d9217668cfa>\u001b[0m in \u001b[0;36m<module>\u001b[0;34m()\u001b[0m\n\u001b[1;32m     25\u001b[0m \u001b[0;34m\u001b[0m\u001b[0m\n\u001b[1;32m     26\u001b[0m \u001b[0;31m#####write output\u001b[0m\u001b[0;34m\u001b[0m\u001b[0;34m\u001b[0m\u001b[0m\n\u001b[0;32m---> 27\u001b[0;31m \u001b[0mprint\u001b[0m \u001b[0;34m(\u001b[0m\u001b[0;34m'Writing output file '\u001b[0m \u001b[0;34m+\u001b[0m \u001b[0mproteinfile_name\u001b[0m \u001b[0;34m+\u001b[0m \u001b[0;34m'_output.fa ...'\u001b[0m\u001b[0;34m)\u001b[0m\u001b[0;34m\u001b[0m\u001b[0m\n\u001b[0m\u001b[1;32m     28\u001b[0m \u001b[0mfout\u001b[0m \u001b[0;34m=\u001b[0m \u001b[0mopen\u001b[0m\u001b[0;34m(\u001b[0m\u001b[0mproteinfile_name\u001b[0m\u001b[0;34m+\u001b[0m\u001b[0;34m'_output.fa'\u001b[0m\u001b[0;34m,\u001b[0m \u001b[0;34m'w'\u001b[0m\u001b[0;34m)\u001b[0m\u001b[0;34m\u001b[0m\u001b[0m\n\u001b[1;32m     29\u001b[0m \u001b[0;32mfor\u001b[0m \u001b[0mi_report\u001b[0m \u001b[0;32min\u001b[0m \u001b[0mreport\u001b[0m\u001b[0;34m:\u001b[0m\u001b[0;34m\u001b[0m\u001b[0m\n",
      "\u001b[0;31mNameError\u001b[0m: name 'proteinfile_name' is not defined"
     ]
    }
   ],
   "source": [
    "#####find the best codons to generate sequence\n",
    "print ('Doing inverse translation for input sequence(s)...')\n",
    "report = []\n",
    "for protein in proteinlist:\n",
    "    aan = 0\n",
    "    seqcodondict = copy.deepcopy(codonforseq)   #the first element is math.log10(freq)\n",
    "    proteinname, proteinseq = protein\n",
    "    RNAseq = ''\n",
    "    for aa in proteinseq:\n",
    "        if len(seqcodondict[codondict[aa][0][0]]) == 1:\n",
    "            codon = codondict[aa][0][0]\n",
    "        elif len(codondict[aa]) == 1:\n",
    "            codon = codondict[aa][0][0]\n",
    "        else:\n",
    "            if aa in ['A', 'R', 'L']:\n",
    "                codon = chooseaa_non1st_1(aa)\n",
    "            else:\n",
    "                codon = chooseaa_non1st_2(aa)\n",
    "        RNAseq += codon\n",
    "        seqcodondict[codon].append(aan)\n",
    "        aan += 1\n",
    "    \n",
    "    RNAseq += codondict['*'][0][0]\n",
    "    report.append((proteinname, RNAseq))\n",
    "\n",
    "#####write output\n",
    "print ('Writing output file ' + proteinfile_name + '_output.fa ...')\n",
    "fout = open(proteinfile_name+'_output.fa', 'w')\n",
    "for i_report in report:\n",
    "    proteinname, RNAseq = i_report\n",
    "    fout.write(proteinname+'\\n')\n",
    "    seqlist = [RNAseq[i:i+80]+'\\n' for i in range(0,len(RNAseq),80)]\n",
    "    for i_seqlist in seqlist:\n",
    "        fout.write(i_seqlist)\n",
    "fout.close()\n",
    "sys.exit()"
   ]
  },
  {
   "cell_type": "code",
   "execution_count": 3,
   "metadata": {},
   "outputs": [
    {
     "name": "stdout",
     "output_type": "stream",
     "text": [
      "[('>test1', 'CUGUAUGUGACCGUUUUUUAUGGCAUUCCGGUGUGGAAAAACAGCACCGUGCAGGCGUUUUGCAUGACCCCGAACACGAAUAUGUGGGCCACCACGAACUGCAUUCCGGAUGACCAUGAUAAUACCGAAGUGCCGCUGAACAUUACCGAAGCCUUUGAAGCCUGGGAUAACCCGUUAGUGAAACAGGCCGAAAGCAAUAUUCAUCUGUUAUUUGAACAGACCAUGCGCCCGUGCGUGAAAUUAAGCCCGAUUUGCAUCAAAAUGAGCUGUGUGGAAUUAAACGGCACCGCCACGACCAAAUAA'), ('>test1qe', 'CUGUAUGUGACCGUUUUUUAUGGCAUUCCGGUGUGGAAAAACAGCACCGUGCAGGCGUUUUGCAUGACCCCGAACACGAAUAUGUGGGCCACCACGAACUGCAUUCCGGAUGACCAUGAUAAUACCGAAGUGCCGCUGAACAUUACCGAAGCCUUUGAAGCCUGGGAUAACCCGUUAGUGAAACAGGCCGAAAGCAAUAUUCAUCUGUUAUUUGAACAGACCAUGCGCCCGUGCGUGAAAUUAAGCCCGAUUUGCAUCAAAAUGAGCUCGUCAAGCAGUUCUUGCGUGGAAUUAAACGGCACCGCCACGACCAAAUAA'), ('>test1e', 'CUGUAUGUGACCGUUUUUUAUGGCAUUCCGGUGUGGAAAAACAGCACCGUGCAGGCGUUUUGCAUGACCCCGAACACGAAUAUGUGGGCCACCACGAACUGCAUUCCGGAUGACCAUGAUAAUACCGAAGUGCCGCUGAACAUUACCGAAGCCUUUGAAGCCUGGGAUAACCCGUUAGUGAAACAGGCCGAAAGCAAUAUUCAUCUGUUAUUUGAACAGACCAUGCGCCCGUGCGUGAAAUUAAGCCCGAUUUGCAUCAAAAUGAGCUGUGUGGAAUUAAACGGCACCGCCACGACCAAAUAA')]\n"
     ]
    }
   ],
   "source": [
    "print (report)"
   ]
  },
  {
   "cell_type": "code",
   "execution_count": null,
   "metadata": {
    "collapsed": true
   },
   "outputs": [],
   "source": []
  }
 ],
 "metadata": {
  "kernelspec": {
   "display_name": "Python 3",
   "language": "python",
   "name": "python3"
  },
  "language_info": {
   "codemirror_mode": {
    "name": "ipython",
    "version": 3
   },
   "file_extension": ".py",
   "mimetype": "text/x-python",
   "name": "python",
   "nbconvert_exporter": "python",
   "pygments_lexer": "ipython3",
   "version": "3.6.1"
  }
 },
 "nbformat": 4,
 "nbformat_minor": 2
}
