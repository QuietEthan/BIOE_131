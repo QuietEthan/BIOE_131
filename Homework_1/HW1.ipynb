{
 "cells": [
  {
   "cell_type": "code",
   "execution_count": 2,
   "metadata": {
    "collapsed": true
   },
   "outputs": [],
   "source": [
    "import sys\n",
    "from sys import exit\n",
    "from sys import argv\n",
    "\n",
    "def conseq(sequence):\n",
    "    \n",
    "    sequence = sequence.replace('A', '1')\n",
    "    sequence = sequence.replace('a', '2')\n",
    "    sequence = sequence.replace('T', 'A')\n",
    "    sequence = sequence.replace('t', 'a')\n",
    "    sequence = sequence.replace('U', 'A')\n",
    "    sequence = sequence.replace('u', 'a')\n",
    "    sequence = sequence.replace('1', 'T')\n",
    "    sequence = sequence.replace('2', 't')\n",
    "    \n",
    "    sequence = sequence.replace('C', '1')\n",
    "    sequence = sequence.replace('c', '2')\n",
    "    sequence = sequence.replace('G', 'C')\n",
    "    sequence = sequence.replace('g', 'c')\n",
    "    sequence = sequence.replace('1', 'G')\n",
    "    sequence = sequence.replace('2', 'g')\n",
    "    \n",
    "    sequence = sequence.replace('R', '1')\n",
    "    sequence = sequence.replace('r', '2')\n",
    "    sequence = sequence.replace('Y', 'R')\n",
    "    sequence = sequence.replace('y', 'r')\n",
    "    sequence = sequence.replace('1', 'Y')\n",
    "    sequence = sequence.replace('2', 'y')\n",
    "    \n",
    "    sequence = sequence.replace('K', '1')\n",
    "    sequence = sequence.replace('k', '2')\n",
    "    sequence = sequence.replace('M', 'K')\n",
    "    sequence = sequence.replace('m', 'k')\n",
    "    sequence = sequence.replace('1', 'M')\n",
    "    sequence = sequence.replace('2', 'm')\n",
    "    \n",
    "    sequence = sequence.replace('B', '1')\n",
    "    sequence = sequence.replace('b', '2')\n",
    "    sequence = sequence.replace('V', 'B')\n",
    "    sequence = sequence.replace('v', 'b')\n",
    "    sequence = sequence.replace('1', 'V')\n",
    "    sequence = sequence.replace('2', 'v')\n",
    "    \n",
    "    sequence = sequence.replace('D', '1')\n",
    "    sequence = sequence.replace('d', '2')\n",
    "    sequence = sequence.replace('H', 'D')\n",
    "    sequence = sequence.replace('h', 'd')\n",
    "    sequence = sequence.replace('1', 'H')\n",
    "    sequence = sequence.replace('2', 'd')\n",
    "    \n",
    "    sequence = sequence[::-1] \n",
    "    return sequence\n",
    "\n",
    "def writeout(proteinname,sequence):\n",
    "    fout.write(proteinname+'\\n')\n",
    "    seqlist = [sequence[i:i+80]+'\\n' for i in range(0,len(sequence),80)]\n",
    "    for i in seqlist:\n",
    "        fout.write(i)\n",
    "'''\n",
    "###Error Handle\n",
    "try: \n",
    "    filename = sys.argv[1]\n",
    "except IndexError:\n",
    "    print ('The user did not specify a filename argument on the command line.')\n",
    "    sys.exit()\n",
    "try:\n",
    "    fin = open(filename)\n",
    "except IOError:\n",
    "    print ('The file named by the user does not exist, or is not readable.')\n",
    "    sys.exit()'''\n",
    "    \n",
    "filename = '1.fa'#####del\n",
    "fin = open(filename)\n",
    "contents = fin.readlines()\n",
    "fout = open(filename+'_output.fa', 'w')"
   ]
  },
  {
   "cell_type": "code",
   "execution_count": 4,
   "metadata": {},
   "outputs": [
    {
     "name": "stdout",
     "output_type": "stream",
     "text": [
      "ATGAGCAGCTCAGAAGTTGACAAAGTTTTCACAGAAGAGCAGGAAGCTCTGGTGGTGAAATCATGGGCTGTAATGAAGAAGAACTCTGCTGAACTGGGTCTTAAATTCTTCCTCAAGTAAGTCAAGATTATAGATAGTACACTTTTTATTTACTTTGCTTCTTTTGTAGACTAAGTTTTTGAATCAAAAGGGTACATTTTTTTTCCTGAA\n"
     ]
    },
    {
     "ename": "ValueError",
     "evalue": "I/O operation on closed file.",
     "output_type": "error",
     "traceback": [
      "\u001b[0;31m---------------------------------------------------------------------------\u001b[0m",
      "\u001b[0;31mValueError\u001b[0m                                Traceback (most recent call last)",
      "\u001b[0;32m<ipython-input-4-16cd14674864>\u001b[0m in \u001b[0;36m<module>\u001b[0;34m()\u001b[0m\n\u001b[1;32m     22\u001b[0m                 \u001b[0msys\u001b[0m\u001b[0;34m.\u001b[0m\u001b[0mexit\u001b[0m\u001b[0;34m(\u001b[0m\u001b[0;34m)\u001b[0m\u001b[0;34m\u001b[0m\u001b[0m\n\u001b[1;32m     23\u001b[0m         \u001b[0msequence\u001b[0m \u001b[0;34m=\u001b[0m \u001b[0mconseq\u001b[0m\u001b[0;34m(\u001b[0m\u001b[0msequence\u001b[0m\u001b[0;34m)\u001b[0m\u001b[0;34m\u001b[0m\u001b[0m\n\u001b[0;32m---> 24\u001b[0;31m         \u001b[0mwriteout\u001b[0m\u001b[0;34m(\u001b[0m\u001b[0mproteinname\u001b[0m\u001b[0;34m,\u001b[0m\u001b[0msequence\u001b[0m\u001b[0;34m)\u001b[0m\u001b[0;34m\u001b[0m\u001b[0m\n\u001b[0m\u001b[1;32m     25\u001b[0m     \u001b[0;32melif\u001b[0m \u001b[0mcontents\u001b[0m\u001b[0;34m[\u001b[0m\u001b[0mn\u001b[0m\u001b[0;34m]\u001b[0m\u001b[0;34m[\u001b[0m\u001b[0;36m0\u001b[0m\u001b[0;34m]\u001b[0m \u001b[0;34m!=\u001b[0m \u001b[0;34m'>'\u001b[0m\u001b[0;34m:\u001b[0m\u001b[0;34m\u001b[0m\u001b[0m\n\u001b[1;32m     26\u001b[0m         \u001b[0mprint\u001b[0m \u001b[0;34m(\u001b[0m\u001b[0;34m'The file named by the user is not in FASTA format.'\u001b[0m\u001b[0;34m)\u001b[0m\u001b[0;34m\u001b[0m\u001b[0m\n",
      "\u001b[0;32m<ipython-input-2-9cc5ae3bbfa9>\u001b[0m in \u001b[0;36mwriteout\u001b[0;34m(proteinname, sequence)\u001b[0m\n\u001b[1;32m     53\u001b[0m \u001b[0;34m\u001b[0m\u001b[0m\n\u001b[1;32m     54\u001b[0m \u001b[0;32mdef\u001b[0m \u001b[0mwriteout\u001b[0m\u001b[0;34m(\u001b[0m\u001b[0mproteinname\u001b[0m\u001b[0;34m,\u001b[0m\u001b[0msequence\u001b[0m\u001b[0;34m)\u001b[0m\u001b[0;34m:\u001b[0m\u001b[0;34m\u001b[0m\u001b[0m\n\u001b[0;32m---> 55\u001b[0;31m     \u001b[0mfout\u001b[0m\u001b[0;34m.\u001b[0m\u001b[0mwrite\u001b[0m\u001b[0;34m(\u001b[0m\u001b[0mproteinname\u001b[0m\u001b[0;34m+\u001b[0m\u001b[0;34m'\\n'\u001b[0m\u001b[0;34m)\u001b[0m\u001b[0;34m\u001b[0m\u001b[0m\n\u001b[0m\u001b[1;32m     56\u001b[0m     \u001b[0mseqlist\u001b[0m \u001b[0;34m=\u001b[0m \u001b[0;34m[\u001b[0m\u001b[0msequence\u001b[0m\u001b[0;34m[\u001b[0m\u001b[0mi\u001b[0m\u001b[0;34m:\u001b[0m\u001b[0mi\u001b[0m\u001b[0;34m+\u001b[0m\u001b[0;36m80\u001b[0m\u001b[0;34m]\u001b[0m\u001b[0;34m+\u001b[0m\u001b[0;34m'\\n'\u001b[0m \u001b[0;32mfor\u001b[0m \u001b[0mi\u001b[0m \u001b[0;32min\u001b[0m \u001b[0mrange\u001b[0m\u001b[0;34m(\u001b[0m\u001b[0;36m0\u001b[0m\u001b[0;34m,\u001b[0m\u001b[0mlen\u001b[0m\u001b[0;34m(\u001b[0m\u001b[0msequence\u001b[0m\u001b[0;34m)\u001b[0m\u001b[0;34m,\u001b[0m\u001b[0;36m80\u001b[0m\u001b[0;34m)\u001b[0m\u001b[0;34m]\u001b[0m\u001b[0;34m\u001b[0m\u001b[0m\n\u001b[1;32m     57\u001b[0m     \u001b[0;32mfor\u001b[0m \u001b[0mi\u001b[0m \u001b[0;32min\u001b[0m \u001b[0mseqlist\u001b[0m\u001b[0;34m:\u001b[0m\u001b[0;34m\u001b[0m\u001b[0m\n",
      "\u001b[0;31mValueError\u001b[0m: I/O operation on closed file."
     ]
    }
   ],
   "source": [
    "n = 0\n",
    "while n < len(contents):\n",
    "    if contents[n] == '\\n':\n",
    "        n += 1\n",
    "        pass\n",
    "    elif contents[n][0] == '>':\n",
    "        proteinname = contents[n].split()[0]\n",
    "        sequence = ''\n",
    "        n += 1\n",
    "        if contents[n][0] == '>':\n",
    "            print ('No sequence for ' + proteinname[1:] + '.')    \n",
    "        while n < len(contents) and contents[n][0] !='>':\n",
    "            if contents[n][-1:] != '\\n':\n",
    "                sequence += contents[n][0:]\n",
    "            else:\n",
    "                sequence += contents[n][0:-1]\n",
    "            n += 1\n",
    "        print (sequence)\n",
    "        for i in sequence:\n",
    "            if i in ['E', 'F', 'I', 'L', 'P', 'Q', 'e', 'f', 'i', 'l', 'p', 'q']:\n",
    "                print ('The file named by the user contains sequences that are not DNA.')\n",
    "                sys.exit()\n",
    "        sequence = conseq(sequence)\n",
    "        writeout(proteinname,sequence)\n",
    "    elif contents[n][0] != '>':\n",
    "        print ('The file named by the user is not in FASTA format.')\n",
    "        sys.exit()\n",
    "\n",
    "fout.close()\n",
    "sys.exit()"
   ]
  },
  {
   "cell_type": "code",
   "execution_count": null,
   "metadata": {
    "collapsed": true
   },
   "outputs": [],
   "source": []
  }
 ],
 "metadata": {
  "kernelspec": {
   "display_name": "Python 3",
   "language": "python",
   "name": "python3"
  },
  "language_info": {
   "codemirror_mode": {
    "name": "ipython",
    "version": 3
   },
   "file_extension": ".py",
   "mimetype": "text/x-python",
   "name": "python",
   "nbconvert_exporter": "python",
   "pygments_lexer": "ipython3",
   "version": "3.6.1"
  }
 },
 "nbformat": 4,
 "nbformat_minor": 2
}
