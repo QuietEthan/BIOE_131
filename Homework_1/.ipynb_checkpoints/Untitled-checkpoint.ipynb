{
 "cells": [
  {
   "cell_type": "code",
   "execution_count": 59,
   "metadata": {
    "collapsed": true
   },
   "outputs": [],
   "source": [
    "import sys\n",
    "from sys import exit\n",
    "from sys import argv\n",
    "\n",
    "def conseq(sequence):\n",
    "    \n",
    "    sequence = sequence.replace('A', '1')\n",
    "    sequence = sequence.replace('a', '2')\n",
    "    sequence = sequence.replace('T', 'A')\n",
    "    sequence = sequence.replace('t', 'a')\n",
    "    sequence = sequence.replace('U', 'A')\n",
    "    sequence = sequence.replace('u', 'a')\n",
    "    sequence = sequence.replace('1', 'T')\n",
    "    sequence = sequence.replace('2', 't')\n",
    "    \n",
    "    sequence = sequence.replace('C', '1')\n",
    "    sequence = sequence.replace('c', '2')\n",
    "    sequence = sequence.replace('G', 'C')\n",
    "    sequence = sequence.replace('g', 'c')\n",
    "    sequence = sequence.replace('1', 'G')\n",
    "    sequence = sequence.replace('2', 'g')\n",
    "    \n",
    "    sequence = sequence.replace('R', '1')\n",
    "    sequence = sequence.replace('r', '2')\n",
    "    sequence = sequence.replace('Y', 'R')\n",
    "    sequence = sequence.replace('y', 'r')\n",
    "    sequence = sequence.replace('1', 'Y')\n",
    "    sequence = sequence.replace('2', 'y')\n",
    "    \n",
    "    sequence = sequence.replace('K', '1')\n",
    "    sequence = sequence.replace('k', '2')\n",
    "    sequence = sequence.replace('M', 'K')\n",
    "    sequence = sequence.replace('m', 'k')\n",
    "    sequence = sequence.replace('1', 'M')\n",
    "    sequence = sequence.replace('2', 'm')\n",
    "    \n",
    "    sequence = sequence.replace('B', '1')\n",
    "    sequence = sequence.replace('b', '2')\n",
    "    sequence = sequence.replace('V', 'B')\n",
    "    sequence = sequence.replace('v', 'b')\n",
    "    sequence = sequence.replace('1', 'V')\n",
    "    sequence = sequence.replace('2', 'v')\n",
    "    \n",
    "    sequence = sequence.replace('D', '1')\n",
    "    sequence = sequence.replace('d', '2')\n",
    "    sequence = sequence.replace('H', 'D')\n",
    "    sequence = sequence.replace('h', 'd')\n",
    "    sequence = sequence.replace('1', 'H')\n",
    "    sequence = sequence.replace('2', 'd')\n",
    "    \n",
    "    sequence = sequence[::-1] \n",
    "    return sequence\n",
    "\n",
    "def writeout(proteinname,sequence):\n",
    "    fout.write(proteinname+'\\n')\n",
    "    seqlist = [sequence[i:i+80]+'\\n' for i in range(0,len(sequence),80)]\n",
    "    for i in seqlist:\n",
    "        fout.write(i)\n",
    "'''\n",
    "###Error Handle\n",
    "try: \n",
    "    filename = sys.argv[1]\n",
    "except IndexError:\n",
    "    print ('The user did not specify a filename argument on the command line.')\n",
    "    sys.exit()\n",
    "try:\n",
    "    fin = open(filename)\n",
    "except FileNotFoundError:\n",
    "    print ('The file named by the user does not exist, or is not readable.')\n",
    "    sys.exit()'''\n",
    "    \n",
    "filename = 'sample_input.fa'#####del\n",
    "fin = open(filename)\n",
    "contents = fin.readlines()\n",
    "fout = open(filename+'_output.fa', 'w')"
   ]
  },
  {
   "cell_type": "code",
   "execution_count": 60,
   "metadata": {},
   "outputs": [
    {
     "name": "stdout",
     "output_type": "stream",
     "text": [
      "ATGAGCAGCTCAGAAGTTGACAAAGTTTTCACAGAAGAGCAGGAAGCTCTGGTGGTGAAATCATGGGCTGTAATGAAGAAGAACTCTGCTGAACTGGGTCTTAAATTCTTCCTCAAGTAAGTCAAGATTATAGATAGTACACTTTTTATTTACTTTGCTTCTTTTGTAGACTAAGTTTTTGAATCAAAAGGGTACATTTTTTTTCCTGAAAAAAATTGGTTGATATGAAACTTTGCAGGATATTTGAGATTGCACCGTCTGCCAAGAACTTGTTCTCGTATTTGAAGGACTCTCCGATTCCTTTGGAGCAGAACCCAAAGCTCAAGCCCCATGCTATGACTGTCTTCGTTATGGTAAAGCCAACTTTTGTTCTCCATTTCCCTTGTCCTAATTTTTACAAGAGTCTAATGTTAATAAAATAGTATTTTGCCAATTTAAACAATCAAAAATTTAGACACAACTATGTAAAACATTTTAATTCTTGGGGTTTATGATACATTGATCTATAGTGAATCTAACTTCCCGTGTTACATTTATGAGCTGTGCTAGCAACAGTAGCATCACAGTCGTCTATTCCTATAAGCAGAATGGACGACTGTGACTGGTGAGACATATCAATGCAAAGCTTTACAATTTTTATGTTCCTCACTTGCTCTGTTCTTTTTCTCTGGTACTTGTCCTGGAAAGACGTGTGAATCTGCGGTTCAACTTCGGAAAGCCGGAAAAGTAACAGTGAGAGAATCAAACTTGAAAAGACTTGGGGCTATCCACTTCAAAAATGGCGTAGTTAATGAACATTTTGAGGTACTACCCTGCCCATATAGTAGATATAATTCCATAAGTGTAATCCAAACACTTATTGTTTAGTGTCAAATTACTATTATTCTGTATGGTGGTTCTTGAATAATCGATCTTATTATGGTATTTACTAATTATATTATGCATTGAAAAAACCGTTTGTAGGTCACAAGGTTTGCACTTTTGGAGACCATAAAGGAAGCGGTACCAGAAATGTGGTCTGCTGAGATGAAGAACGCATGGGGAGAAGCTTATGATCTGTTGGTTGCTGCTATCAAGTTCGAAGTGAAACCCTCCAGTACTTGA\n",
      "AATGGCACCTGCCCTAAAATAGCTTCCCATGTGAGGGCTAGAGAAAGGAAAAGATTAGACCCTCCCTGGATGAGAGAGAGAAAGTGAAGGAGGGCAGGGGAGGGGGACAGCGAGCCATTGAGCGATCTTTGTCAAGCATCCCAGAAGACTGCGCCATGGGGCTCAGCGACGGGGAATGGCAGTTGGTGCTGAACGTCTGGGGGAAGGTGGAGGCTGACATCCCAGGCCATGGGCAGGAAGTCCTCATCAGGCTCTTTAAGGGTCACCCAGAGACTCTGGAGAAGTTTGACAAGTTCAAGCACCTGAAGTCAGAGGACGAGATGAAGGCGTCTGAGGACTTAAAGAAGCATGGTGCCACCGTGCTCACCGCCCTGGGTGGCATCCTTAAGAAGAAGGGGCATCATGAGGCAGAGATTAAGCCCCTGGCACAGTCGCATGCCACCAAGCACAAGATCCCCGTGAAGTACCTGGAGTTCATCTCGGAATGCATCATCCAGGTTCTGCAGAGCAAGCATCCCGGGGACTTTGGTGCTGATGCCCAGGGGGCCATGAACAAGGCCCTGGAGCTGTTCCGGAAGGACATGGCCTCCAACTACAAGGAGCTGGGCTTCCAGGGCTAGGCCCCTGCCGCTCCCACCCCCACCCATCTGGGCCCCGGGTTCAAGAGAGAGCGGGGTCTGATCTCGTGTAGCCATATAGAGTTTGCTTCTGAGTGTCTGCTTTGTTTAGTAGAGGTGGGCAGGAGGAGCTGAGGGGCTGGGGCTGGGGTGTTGAAGTTGGCTTTGCATGCCCAGCGATGCGCCTCCCTGTGGGATGTCATCACCCTGGGAACCGGGAGTGGCCCTTGGCTCACTGTGTTCTGCATGGTTTGGATCTGAATTAATTGTCCTTTCTTCTAAATCCCAACCGAACTTCTTCCAACCTCCAAACTGGCTGTAACCCCAAATCCAAGCCATTAACTACACCTGACAGTAGCAATTGTCTGATTAATCACTGGCCCCTTGAAGACAGCAGAATGTCCCTTTGCAATGAGGAGGAGATCTGGGCTGGGCGGGCCAGCTGGGGAAGCATTTGACTATCTGGAACTTGTGTGTGCCTCCTCAGGTATGGCAGTGACTCACCTGGTTTTAATAAAACAACCTGCAACATCTCA\n"
     ]
    },
    {
     "ename": "SystemExit",
     "evalue": "",
     "output_type": "error",
     "traceback": [
      "An exception has occurred, use %tb to see the full traceback.\n",
      "\u001b[0;31mSystemExit\u001b[0m\n"
     ]
    },
    {
     "name": "stderr",
     "output_type": "stream",
     "text": [
      "/anaconda/lib/python3.6/site-packages/IPython/core/interactiveshell.py:2870: UserWarning: To exit: use 'exit', 'quit', or Ctrl-D.\n",
      "  warn(\"To exit: use 'exit', 'quit', or Ctrl-D.\", stacklevel=1)\n"
     ]
    }
   ],
   "source": [
    "n = 0\n",
    "while n < len(contents):\n",
    "    if contents[n] == '\\n':\n",
    "        n += 1\n",
    "        pass\n",
    "    elif contents[n][0] == '>':\n",
    "        proteinname = contents[n].split()[0]\n",
    "        sequence = ''\n",
    "        n += 1\n",
    "        while contents[n][0] == '\\n':\n",
    "            n += 1\n",
    "        if contents[n][0] == '>':\n",
    "            print ('No sequence for ' + proteinname[1:] + '.')    \n",
    "        while n < len(contents) and contents[n][0] !='>':\n",
    "            if contents[n][-1:] != '\\n':\n",
    "                sequence += contents[n][0:]\n",
    "            else:\n",
    "                sequence += contents[n][0:-1]\n",
    "            n += 1\n",
    "        for i in sequence:\n",
    "            if i in ['E', 'F', 'I', 'L', 'P', 'Q', 'e', 'f', 'i', 'l', 'p', 'q']:\n",
    "                print ('The file named by the user contains sequences that are not DNA.')\n",
    "                sys.exit()\n",
    "        sequence = conseq(sequence)\n",
    "        writeout(proteinname,sequence)\n",
    "    elif contents[n][0] != '>':\n",
    "        print ('The file named by the user is not in FASTA format.')\n",
    "        sys.exit()\n",
    "\n",
    "fout.close()\n",
    "sys.exit()"
   ]
  },
  {
   "cell_type": "code",
   "execution_count": null,
   "metadata": {
    "collapsed": true
   },
   "outputs": [],
   "source": []
  }
 ],
 "metadata": {
  "kernelspec": {
   "display_name": "Python 3",
   "language": "python",
   "name": "python3"
  },
  "language_info": {
   "codemirror_mode": {
    "name": "ipython",
    "version": 3
   },
   "file_extension": ".py",
   "mimetype": "text/x-python",
   "name": "python",
   "nbconvert_exporter": "python",
   "pygments_lexer": "ipython3",
   "version": "3.6.1"
  }
 },
 "nbformat": 4,
 "nbformat_minor": 2
}
