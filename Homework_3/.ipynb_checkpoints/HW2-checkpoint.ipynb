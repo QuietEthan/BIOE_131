{
 "cells": [
  {
   "cell_type": "code",
   "execution_count": 1,
   "metadata": {
    "collapsed": true
   },
   "outputs": [],
   "source": [
    "#! /usr/bin/python \n",
    "##################\n",
    "#####Inverse Translation for the protein FASTA files\n",
    "#####Yifan Ethan Chen\n",
    "#####BioE 131 HW2\n",
    "#####09/24/17 Cal\n",
    "\n",
    "import sys,re, time, math, copy, os, re\n",
    "from sys import exit\n",
    "from sys import argv\n",
    "\n",
    "#####for codon sorting\n",
    "def frequence(s): \n",
    "    return s[2]\n",
    "\n",
    "#####chosing the best codon by frequency and repeat penalty\n",
    "def chooseaa_non1st(aa):\n",
    "    score_list_aa = []\n",
    "    for info in codondict[aa]:\n",
    "        score_codon = info[1] - 1/(aan - seqcodondict[info[0]][-1])\n",
    "        score_list_aa.append(score_codon)\n",
    "    best_score = max(score_list_aa)\n",
    "    codon = codondict[aa][score_list_aa.index(best_score)][0]\n",
    "    return codon, best_score\n",
    "\n",
    "'''\n",
    "#####Error Handle\n",
    "try: \n",
    "    proteinfile_name = sys.argv[1]\n",
    "except IndexError:\n",
    "    print ('The user did not specify a FASTA file argument on the command line.')\n",
    "    sys.exit()\n",
    "try: \n",
    "    codontablefile_name = sys.argv[2]\n",
    "except IndexError:\n",
    "    print ('The user did not specify a codon usage table file argument on the command line.')\n",
    "    sys.exit()\n",
    "try:\n",
    "    fin = open(proteinfile_name)\n",
    "    fin = open(codontablefile_name)\n",
    "except IOError:\n",
    "    print ('The file named by the user does not exist, or is not readable.')\n",
    "    sys.exit()'''\n",
    "    \n",
    "proteinfile_name = 'protein_input.fa'\n",
    "codontablefile_name = 'EcoliCodonUsage.txt'\n",
    "proteinfile = open(proteinfile_name) \n",
    "proteincontents = proteinfile.readlines()\n",
    "codontablefile = open(codontablefile_name)\n",
    "codontablecontents = codontablefile.readlines()\n",
    "pattern = re.compile(r'\\(-(.+?)\\)')"
   ]
  },
  {
   "cell_type": "code",
   "execution_count": 2,
   "metadata": {},
   "outputs": [
    {
     "name": "stdout",
     "output_type": "stream",
     "text": [
      "Reading codon usage table..\n"
     ]
    }
   ],
   "source": [
    "#####build codon dict\n",
    "print ('Reading codon usage table..')\n",
    "codondict = {}\n",
    "codonforseq = {}   #the first element is math.log10(freq)\n",
    "for line in codontablecontents:\n",
    "    line = line.rstrip()\n",
    "    line = re.split('[()]',line)\n",
    "    if line[-1] =='':\n",
    "        line.pop()\n",
    "    if line:\n",
    "        codonlist = [line[i] for i in range(0,len(line),2)]\n",
    "        for i in codonlist:\n",
    "            i = i.split()\n",
    "            if i[1] in codondict.keys():\n",
    "                if float(i[2]) != 0:\n",
    "                    codondict[i[1]].append((i[0], math.log10(float(i[2])), float(i[3])))   #codon, probability, frequence\n",
    "                    codonforseq.setdefault(i[0], [math.log10(float(i[2]))])\n",
    "            else:\n",
    "                if float(i[2]) != 0:\n",
    "                    codondict.setdefault(i[1], [(i[0], math.log10(float(i[2])), float(i[3]))])\n",
    "                    codonforseq.setdefault(i[0], [math.log10(float(i[2]))])\n",
    "for i in codondict.keys():\n",
    "    k = sorted(codondict[i], key = frequence, reverse = True)\n",
    "    codondict[i] = k"
   ]
  },
  {
   "cell_type": "code",
   "execution_count": 3,
   "metadata": {},
   "outputs": [
    {
     "name": "stdout",
     "output_type": "stream",
     "text": [
      "Reading protein sequence(s)..\n"
     ]
    }
   ],
   "source": [
    "#####protein sequence read\n",
    "print ('Reading protein sequence(s)..')\n",
    "proteinlist = []\n",
    "n = 0\n",
    "while n < len(proteincontents):\n",
    "    if proteincontents[n] == '\\n':\n",
    "        n += 1\n",
    "    elif proteincontents[n][0] == '>':\n",
    "        proteinname = proteincontents[n].split()[0]\n",
    "        sequence = ''\n",
    "        n += 1\n",
    "        while n < len(proteincontents) and proteincontents[n][0] !='>':\n",
    "            sequence += proteincontents[n].rstrip()\n",
    "            n += 1\n",
    "        if n < len(proteincontents) and proteincontents[n][0] == '>' and sequence == '':\n",
    "            print ('No sequence for ' + proteinname[1:] + '.')\n",
    "        else:\n",
    "            for aa in sequence:\n",
    "                if aa.upper() in ['A', 'R', 'N', 'D', 'C', 'Q', 'E', 'G', 'H', 'I', 'L', 'K', 'M', 'F', 'P', 'S', 'T', 'W', 'Y', 'V']:\n",
    "                    pass\n",
    "                else:\n",
    "                    print ('The file named by the user contains sequence ' + proteinname[1:] + ' that is not protein.')\n",
    "                    sys.exit()\n",
    "            proteinlist.append((proteinname,sequence.upper()))\n",
    "    elif contents[n][0] != '>':\n",
    "        print ('The file named by the user is not in FASTA format.')\n",
    "        sys.exit()"
   ]
  },
  {
   "cell_type": "code",
   "execution_count": 4,
   "metadata": {
    "scrolled": false
   },
   "outputs": [
    {
     "name": "stdout",
     "output_type": "stream",
     "text": [
      "Doing inverse translation for input sequence(s)...\n",
      "0.27768826484680176\n"
     ]
    }
   ],
   "source": [
    "#####find the best codons to generate sequence\n",
    "print ('Doing inverse translation for input sequence(s)...')\n",
    "start = time.time()\n",
    "report = []\n",
    "for protein in proteinlist:\n",
    "    score, aan = 0, 0\n",
    "    seqcodondict = copy.deepcopy(codonforseq)   #the first element is math.log10(freq)\n",
    "    proteinname, proteinseq = protein\n",
    "    RNAseq = ''\n",
    "    start = time.time()\n",
    "    for aa in proteinseq:\n",
    "        if len(seqcodondict[codondict[aa][0][0]]) == 1:\n",
    "            codon, score_1 = codondict[aa][0][0], codondict[aa][0][1]\n",
    "        else:\n",
    "            codon, score_1 = chooseaa_non1st(aa)\n",
    "        RNAseq += codon\n",
    "        score += score_1\n",
    "        seqcodondict[codon].append(aan)\n",
    "        aan += 1\n",
    "    \n",
    "    RNAseq += codondict['*'][0][0]\n",
    "    elapsed = (time.time() - start)\n",
    "    #####calculate RNA structure\n",
    "    tempfile = open('temp.fa', 'w')\n",
    "    tempfile.write(RNAseq)\n",
    "    tempfile.close()\n",
    "    os.system('rm -rf temp.fold rna.ps')\n",
    "    os.system('RNAfold -i temp.fa -o temp -T 20')\n",
    "    structurescore_file = open('temp.fold').read()\n",
    "    structurescore = float(pattern.findall(structurescore_file)[0])\n",
    "    os.system('rm -rf temp.fold rna.ps temp.fold temp.fa')\n",
    "    #####calculate final score\n",
    "    score = score - structurescore - 10*elapsed\n",
    "    report.append((proteinname, RNAseq, score))\n",
    "\n",
    "s = (time.time() - start)\n",
    "print (s)"
   ]
  },
  {
   "cell_type": "code",
   "execution_count": null,
   "metadata": {
    "collapsed": true
   },
   "outputs": [],
   "source": [
    "#####write output\n",
    "print ('Writing output file ' + proteinfile_name + '_output.fa ...')\n",
    "fout = open(proteinfile_name+'_output.fa', 'w')\n",
    "for i_report in report:\n",
    "    proteinname, RNAseq, score = i_report\n",
    "    fout.write(proteinname+'\\n')\n",
    "    seqlist = [RNAseq[i:i+80]+'\\n' for i in range(0,len(RNAseq),80)]\n",
    "    for i_seqlist in seqlist:\n",
    "        fout.write(i_seqlist)\n",
    "fout.close()\n",
    "sys.exit()"
   ]
  }
 ],
 "metadata": {
  "kernelspec": {
   "display_name": "Python 3",
   "language": "python",
   "name": "python3"
  },
  "language_info": {
   "codemirror_mode": {
    "name": "ipython",
    "version": 3
   },
   "file_extension": ".py",
   "mimetype": "text/x-python",
   "name": "python",
   "nbconvert_exporter": "python",
   "pygments_lexer": "ipython3",
   "version": "3.6.1"
  }
 },
 "nbformat": 4,
 "nbformat_minor": 2
}
